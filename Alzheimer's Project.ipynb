{
 "cells": [
  {
   "cell_type": "code",
   "execution_count": 1,
   "metadata": {},
   "outputs": [],
   "source": [
    "import pandas as pd\n",
    "import matplotlib.pyplot as plt\n",
    "import numpy as np\n",
    "alzheimers_data = pd.read_csv('Alzheimers_Data.csv')\n",
    "# Rename columns to change from all caps.\n",
    "alzheimers_deathrate = pd.read_csv(\"Alzheimer's Disease Mortality by State.csv\", usecols = ['YEAR','STATE','RATE']).rename(columns = lambda x: x.title())\n",
    "pd.options.display.max_columns = 38\n",
    "pd.set_option('max_colwidth', 175)"
   ]
  },
  {
   "cell_type": "markdown",
   "metadata": {},
   "source": [
    "<h1> Exploring BFRSS Survey Response and connections to Alzheimers </h1>\n",
    "<p style= 'fontsize:12'> The goal of this project is to demonstrate ability to extract/manipulate information from datasets and present findings in an understanable manner. </p>\n",
    "<p style = 'fontsize:12'> This project used a combination of the Behavioral Risk Factor Surveliance System (BFRSS) survey data (data retrieved from <a href = 'https://catalog.data.gov/dataset/alzheimers-disease-and-healthy-aging-data-0a282'> data.gov </a> database) and Alzheimers deathrates by State (courtsey of <a href = 'https://www.cdc.gov/nchs/pressroom/sosmap/alzheimers_mortality/alzheimers_disease.htm'> CDC website </a>). </p>"
   ]
  },
  {
   "cell_type": "markdown",
   "metadata": {},
   "source": [
    "<h2> Understanding the BFRSS Survey </h2>\n",
    "<p style = 'fontsize:12'> The BRFSS is conducted annually to households around the nation. The survey asked a multitude of questions relating to personal and family health. Ages 18 and above are eligible to answer, and questions can cover health topics unrelated to Alzheimers. The data used in this project contains only survey questions that may be connected with Alzheimers, and includes only respones by individuals in four distinct age ranges: 50-54, 55-59, 60-64, and 65+ </p>\n",
    "<p style = 'fontsize:12'> Survey includes information relating to all 50 states as well as territories (e.g. Virgin Islands). To limit the breadth of data, we will be observing only state in the 'Midwest' region. As defined by the U.S. Census, the following states are included: Iowa (Abbreviated IA), Illinois (IL), Indiana (IN), Kansas (KS), Michigan (MI), Minnesota (MN), Missouri (MO), Nebraska (NE), North Dakota (ND), Ohio (OH), South Dakota (SD), Wisconsin (WI). </p>\n",
    "<p style = 'fontsize: 12'> Each row in the dataset correspons to a state's percentage (or in some cases, number of days) of 'Yes' responses to a question. Each row has one of the four age ranges. For example, a question entitled \"Percentage of older adults who have smoked at least 100 cigarettes in their entire life and still smoke every day or some days\" could have four unique rows, each with a different percentage correspoding to the age demographic surveyed. The dataset contains responses from 2011 to 2017. See example below: </p>"
   ]
  },
  {
   "cell_type": "code",
   "execution_count": 2,
   "metadata": {},
   "outputs": [
    {
     "data": {
      "text/html": [
       "<div>\n",
       "<style scoped>\n",
       "    .dataframe tbody tr th:only-of-type {\n",
       "        vertical-align: middle;\n",
       "    }\n",
       "\n",
       "    .dataframe tbody tr th {\n",
       "        vertical-align: top;\n",
       "    }\n",
       "\n",
       "    .dataframe thead th {\n",
       "        text-align: right;\n",
       "    }\n",
       "</style>\n",
       "<table border=\"1\" class=\"dataframe\">\n",
       "  <thead>\n",
       "    <tr style=\"text-align: right;\">\n",
       "      <th></th>\n",
       "      <th>YearStart</th>\n",
       "      <th>LocationAbbr</th>\n",
       "      <th>Question</th>\n",
       "      <th>Stratification1</th>\n",
       "      <th>Data_Value</th>\n",
       "    </tr>\n",
       "  </thead>\n",
       "  <tbody>\n",
       "    <tr>\n",
       "      <th>12443</th>\n",
       "      <td>2011</td>\n",
       "      <td>MI</td>\n",
       "      <td>Percentage of older adults who have smoked at least 100 cigarettes in their entire life and still smoke every day or some days</td>\n",
       "      <td>60-64 years</td>\n",
       "      <td>17.1</td>\n",
       "    </tr>\n",
       "    <tr>\n",
       "      <th>21576</th>\n",
       "      <td>2011</td>\n",
       "      <td>MI</td>\n",
       "      <td>Percentage of older adults who have smoked at least 100 cigarettes in their entire life and still smoke every day or some days</td>\n",
       "      <td>50-54 years</td>\n",
       "      <td>27.0</td>\n",
       "    </tr>\n",
       "    <tr>\n",
       "      <th>22616</th>\n",
       "      <td>2011</td>\n",
       "      <td>MI</td>\n",
       "      <td>Percentage of older adults who have smoked at least 100 cigarettes in their entire life and still smoke every day or some days</td>\n",
       "      <td>55-59 years</td>\n",
       "      <td>22.3</td>\n",
       "    </tr>\n",
       "    <tr>\n",
       "      <th>23264</th>\n",
       "      <td>2011</td>\n",
       "      <td>MI</td>\n",
       "      <td>Percentage of older adults who have smoked at least 100 cigarettes in their entire life and still smoke every day or some days</td>\n",
       "      <td>65 years or older</td>\n",
       "      <td>9.9</td>\n",
       "    </tr>\n",
       "  </tbody>\n",
       "</table>\n",
       "</div>"
      ],
      "text/plain": [
       "       YearStart LocationAbbr  \\\n",
       "12443       2011           MI   \n",
       "21576       2011           MI   \n",
       "22616       2011           MI   \n",
       "23264       2011           MI   \n",
       "\n",
       "                                                                                                                             Question  \\\n",
       "12443  Percentage of older adults who have smoked at least 100 cigarettes in their entire life and still smoke every day or some days   \n",
       "21576  Percentage of older adults who have smoked at least 100 cigarettes in their entire life and still smoke every day or some days   \n",
       "22616  Percentage of older adults who have smoked at least 100 cigarettes in their entire life and still smoke every day or some days   \n",
       "23264  Percentage of older adults who have smoked at least 100 cigarettes in their entire life and still smoke every day or some days   \n",
       "\n",
       "         Stratification1  Data_Value  \n",
       "12443        60-64 years        17.1  \n",
       "21576        50-54 years        27.0  \n",
       "22616        55-59 years        22.3  \n",
       "23264  65 years or older         9.9  "
      ]
     },
     "execution_count": 2,
     "metadata": {},
     "output_type": "execute_result"
    }
   ],
   "source": [
    "# Example: \n",
    "state = alzheimers_data['LocationAbbr'] == 'MI'\n",
    "year = alzheimers_data['YearStart'] == 2011\n",
    "question = alzheimers_data['Question'] == 'Percentage of older adults who have smoked at least 100 cigarettes in their entire life and still smoke every day or some days'\n",
    "alzheimers_data[state & year & question][['YearStart','LocationAbbr','Question','Stratification1','Data_Value']]\n",
    "# Four row entries for per question, per state, per year. Note the age column is named 'Stratification1'"
   ]
  },
  {
   "cell_type": "markdown",
   "metadata": {},
   "source": [
    "<h2> Variables </h2>\n",
    "<p style = 'fontsize:12'> There are 38 columns in the Alzheimers dataset. However, we will only be using five of them. The five are listed below. \n",
    "<menu>\n",
    "<li>\n",
    "    YearStart: Year survey was conducted\n",
    "    </li>\n",
    "    <li>\n",
    "    LocationAbbr: State Abbreviation\n",
    "    </li>\n",
    "    <li>\n",
    "    Question: Survey Question\n",
    "    </li>\n",
    "    <li>\n",
    "    Stratification1: Age demographic\n",
    "    </li>\n",
    "    <li>\n",
    "    Data_Value: Data value corresponding to the question asked. \n",
    "    </li>\n",
    "    </p>"
   ]
  },
  {
   "cell_type": "markdown",
   "metadata": {},
   "source": [
    "<h2> Concerns around BRFSS data </h2>\n",
    "<p style = 'fontsize: 12'> No data is without its faults. BFRSS is no exception. Some questions have missing percentages. Not every question is asked every year (e.g. a question regarding fruit consumption was not asked until recently), and even the ones that should have been answered are missing a corresponding data value. 'Stratification' has entries for 'Race' and 'Gender', but are entered inconsistently. The most glaring issue is the lack of sample size for responses. BFRSS keeps track of sample at a state-wide level, but does not provide a breakdown for age ranges. Detailed information relating to their survey methodology can be found in the 'Summary Data Quality Report' released along with each years report. 2011 Summary Data Quality Report can be found <a href = 'cdc.gov/brfss/annual_data/annual_2011.htm'> here</a>. Survey data for each individual year can be found <a href = 'cdc.gove/brfss/annual_data/annual_data.htm'> here</a>.\n",
    "<p> Despite these concerns, the BRFSS provides adequate data for the exploration purposes </p>"
   ]
  },
  {
   "cell_type": "markdown",
   "metadata": {},
   "source": [
    "<h3> Reduce to Midwest </h3>\n",
    "<p style='fontsize:12'> The following code will reduce full dataset down to include only the midwest. </p>"
   ]
  },
  {
   "cell_type": "code",
   "execution_count": 3,
   "metadata": {},
   "outputs": [],
   "source": [
    "# Midwestern abbreviations\n",
    "midwest = ['IA','IL','IN','KS','MI','MN','MO','OH','NE','ND','SD','WI']\n",
    "# Region boolean 'mask'\n",
    "region_mask = alzheimers_data['LocationAbbr'].apply(lambda x: True if x in midwest else False)\n",
    "# Midwestern dataframe\n",
    "alzheimers_midwest = alzheimers_data[region_mask].reset_index(drop = True)"
   ]
  },
  {
   "cell_type": "code",
   "execution_count": 4,
   "metadata": {},
   "outputs": [
    {
     "data": {
      "text/plain": [
       "1359"
      ]
     },
     "execution_count": 4,
     "metadata": {},
     "output_type": "execute_result"
    }
   ],
   "source": [
    "# Is there missing data in midwest region?\n",
    "alzheimers_midwest['Data_Value'].isna().sum()"
   ]
  },
  {
   "cell_type": "code",
   "execution_count": 5,
   "metadata": {},
   "outputs": [
    {
     "data": {
      "text/plain": [
       "KS    128\n",
       "SD    124\n",
       "ND    124\n",
       "IA    120\n",
       "IL    118\n",
       "MI    113\n",
       "MO    112\n",
       "NE    110\n",
       "IN    108\n",
       "OH    104\n",
       "WI    102\n",
       "MN     96\n",
       "Name: LocationAbbr, dtype: int64"
      ]
     },
     "execution_count": 5,
     "metadata": {},
     "output_type": "execute_result"
    }
   ],
   "source": [
    "# Is it concentrated in a particular state?\n",
    "alzheimers_midwest[alzheimers_midwest['Data_Value'].isna()]['LocationAbbr'].value_counts()\n",
    "# No"
   ]
  },
  {
   "cell_type": "code",
   "execution_count": 6,
   "metadata": {},
   "outputs": [
    {
     "data": {
      "text/plain": [
       "Percentage of older adults without diabetes who reported a blood sugar or diabetes test within 3 years                                                                       180\n",
       "Percentage of older adults who reported subjective cognitive decline or memory loss that interferes with their ability to engage in social activities or household chores    171\n",
       "Percentage of older adults who reported subjective cognitive decline or memory loss that is happening more often or is getting worse in the preceding 12 months              132\n",
       "Percentage of older adults who reported that as a result of subjective cognitive decline or memory loss that they need assistance with day-to-day activities                 131\n",
       "Percentage of older adults who provided care for someone with dementia or other cognitive impairment within the past month                                                   128\n",
       "Percentage of older adults with subjective cognitive decline or memory loss who reported talking with a health care professional about it                                    127\n",
       "Average of 20 or more hours of care per week provided to a friend or family member                                                                                            98\n",
       "Percentage of older adults who provided care for a friend or family member within the past month                                                                              96\n",
       "Percentage of older adults currently not providing care who expect to provide care for someone with health problems in the next two years                                     96\n",
       "Percentage of older adults who provided care to a friend or family member for six months or more                                                                              96\n",
       "Percentage of older adults who had either a home blood stool test within the past year or a sigmoidoscopy or colonoscopy within the past 10 years                             76\n",
       "Percentage of older adults who report having a disability                                                                                                                     28\n",
       "Name: Question, dtype: int64"
      ]
     },
     "execution_count": 6,
     "metadata": {},
     "output_type": "execute_result"
    }
   ],
   "source": [
    "# Which questions have missing response data?\n",
    "alzheimers_midwest[alzheimers_midwest['Data_Value'].isna()]['Question'].value_counts()"
   ]
  },
  {
   "cell_type": "markdown",
   "metadata": {},
   "source": [
    "<p style = 'fontsize':12> <b> Note:</b> Questions with missing data values were eliminated from exploration. This eliminates questions that could reasonable be worth exploring, namely questions relating to cognitive decline/memory loss. Since they were missing data, they were not included. In defense of this decision, no assumptions could be made about the value of the missing data. This project will note correlation between questions that on the surface do not appear related to Alzheimers. </p>"
   ]
  },
  {
   "cell_type": "code",
   "execution_count": 7,
   "metadata": {},
   "outputs": [
    {
     "name": "stdout",
     "output_type": "stream",
     "text": [
      "Percentage of older adults who are currently obese, with a body mass index (BMI) of 30 or more\n",
      "Percentage of older adults with a lifetime diagnosis of depression\n",
      "Mean number of days with activity limitations in the past month\n",
      "Physically unhealthy days (mean number of days in past month)\n",
      "Percentage of older adult women who have received a mammogram within the past 2 years\n",
      "Percentage of older adults who report having lost 5 or fewer teeth due to decay or gum disease\n",
      "Percentage of older adults who are experiencing frequent mental distress\n",
      "Percentage of at risk adults (have diabetes, asthma, cardiovascular disease or currently smoke) who ever had a pneumococcal vaccine\n",
      "Percentage of older adults who had a cholesterol screening within the past 5 years\n",
      "Percentage of older adults getting sufficient sleep (>6 hours)\n",
      "Percentage of older adults who self-reported that their health is \"fair\" or \"poor\"\n",
      "Percentage of older adult women who are up to date with select clinical preventive services\n",
      "Percentage of older adults who reported binge drinking within the past 30 days\n",
      "Percentage of older adults who self-reported that their health is \"good\", \"very good\", or \"excellent\"\n",
      "Percentage of older adults who have not had any leisure time physical activity in the past month\n",
      "Percentage of older adults who reported influenza vaccine within the past year\n",
      "Percentage of older adult men who are up to date with select clinical preventive services\n",
      "Percentage of older adults who have been told they have high blood pressure who report currently taking medication for their high blood pressure\n",
      "Percentage of older adult women with an intact cervix who had a Pap test within the past 3 years\n",
      "Percentage of older adults who have ever been told by a health professional that they have high blood pressure\n",
      "Percentage of older adults who are eating 3 or more vegetables daily\n",
      "Percentage of older adults who have smoked at least 100 cigarettes in their entire life and still smoke every day or some days\n",
      "Percentage of older adults who report having a disability (includes limitations related to sensory or mobility impairments or a physical, mental, or emotional condition)\n",
      "Percentage of older adults who have fallen and sustained an injury within last year\n",
      "Percentage of older adults who are eating 2 or more fruits daily\n"
     ]
    }
   ],
   "source": [
    "# Which questions that do not have missing response values\n",
    "midwest_question_list = list(alzheimers_midwest['Question'].unique())\n",
    "midwest_question_list_missing = list(alzheimers_midwest[alzheimers_midwest['Data_Value'].isna()]['Question'].unique())\n",
    "for question in midwest_question_list:\n",
    "    if question not in midwest_question_list_missing:\n",
    "        print(question)\n",
    "# These will be the questions we use for analysis. Only rows without missing response values will be included\n",
    "alzheimers_midwest = alzheimers_midwest[alzheimers_midwest['Data_Value'].notnull()]"
   ]
  },
  {
   "cell_type": "markdown",
   "metadata": {},
   "source": [
    "<h2> Introducting Mortality Rates </h2> \n",
    "<p style = 'fontsize: 12'> With the questions selected, how do we narrow the list further? Which questions do we want to explore? I will make selections based on how each percentage correlates with state-level alzheimer mortality rates. To do this, I will bring in a second dataset courtesy of the CDC (link in introduction). </p>\n",
    "<h3> Variables in Mortality Dataset </h3>\n",
    "<p style = 'fontsize:12'> A quick overview of the variables in the CDC mortality dataset:\n",
    "    <menu>\n",
    "        <li>\n",
    "                                    Year: Self Explanatory. Note: Mortality only for years 2014-2018. Only overlaps with our BRFSS data set for years 2014-2017. This will limit our comparisons to years 2014-2017\n",
    "        </li>\n",
    "        <li>\n",
    "            State: Self Explanatory\n",
    "            </li>\n",
    "        <li>\n",
    "            Rate: Mortality Rate. The number of deaths per 100,000 total population. \n",
    "        </li>\n",
    "        </menu>\n",
    "<p style = 'fontsize: 12'> Next, I will print out the the five questions that correlated most with mortality deathrate. This will be done with help from pivot tables. </p>\n",
    "<p style = 'fontsize: 12'> <b> Note </b>: Survey results were averaged across the four age ranges when "
   ]
  },
  {
   "cell_type": "code",
   "execution_count": 8,
   "metadata": {},
   "outputs": [],
   "source": [
    "# Different mask for different column name ('State' vs 'LocationAbbr')\n",
    "region_mask_2 = alzheimers_deathrate['State'].apply(lambda x: True if x in midwest else False)\n",
    "alzheimers_deathrate_midwest = alzheimers_deathrate[region_mask_2].reset_index(drop = True)\n",
    "# Converting year from float to int\n",
    "alzheimers_deathrate_midwest['Year'] = alzheimers_deathrate_midwest['Year'].apply(lambda x: int(x))"
   ]
  },
  {
   "cell_type": "code",
   "execution_count": 9,
   "metadata": {},
   "outputs": [
    {
     "data": {
      "text/html": [
       "<div>\n",
       "<style scoped>\n",
       "    .dataframe tbody tr th:only-of-type {\n",
       "        vertical-align: middle;\n",
       "    }\n",
       "\n",
       "    .dataframe tbody tr th {\n",
       "        vertical-align: top;\n",
       "    }\n",
       "\n",
       "    .dataframe thead th {\n",
       "        text-align: right;\n",
       "    }\n",
       "</style>\n",
       "<table border=\"1\" class=\"dataframe\">\n",
       "  <thead>\n",
       "    <tr style=\"text-align: right;\">\n",
       "      <th>Question</th>\n",
       "      <th>Mean number of days with activity limitations in the past month</th>\n",
       "      <th>Percentage of at risk adults (have diabetes, asthma, cardiovascular disease or currently smoke) who ever had a pneumococcal vaccine</th>\n",
       "      <th>Percentage of older adults who are currently obese, with a body mass index (BMI) of 30 or more</th>\n",
       "      <th>Percentage of older adults who are eating 2 or more fruits daily</th>\n",
       "      <th>Percentage of older adults who are eating 3 or more vegetables daily</th>\n",
       "      <th>Percentage of older adults who are experiencing frequent mental distress</th>\n",
       "      <th>Percentage of older adults who had a cholesterol screening within the past 5 years</th>\n",
       "      <th>Percentage of older adults who have been told they have high blood pressure who report currently taking medication for their high blood pressure</th>\n",
       "      <th>Percentage of older adults who have ever been told by a health professional that they have high blood pressure</th>\n",
       "      <th>Percentage of older adults who have not had any leisure time physical activity in the past month</th>\n",
       "      <th>Percentage of older adults who have smoked at least 100 cigarettes in their entire life and still smoke every day or some days</th>\n",
       "      <th>Percentage of older adults who report having a disability (includes limitations related to sensory or mobility impairments or a physical, mental, or emotional condition)</th>\n",
       "      <th>Percentage of older adults who reported binge drinking within the past 30 days</th>\n",
       "      <th>Percentage of older adults who reported influenza vaccine within the past year</th>\n",
       "      <th>Percentage of older adults who self-reported that their health is \"fair\" or \"poor\"</th>\n",
       "      <th>Percentage of older adults who self-reported that their health is \"good\", \"very good\", or \"excellent\"</th>\n",
       "      <th>Percentage of older adults with a lifetime diagnosis of depression</th>\n",
       "      <th>Physically unhealthy days (mean number of days in past month)</th>\n",
       "    </tr>\n",
       "    <tr>\n",
       "      <th>LocationAbbr</th>\n",
       "      <th></th>\n",
       "      <th></th>\n",
       "      <th></th>\n",
       "      <th></th>\n",
       "      <th></th>\n",
       "      <th></th>\n",
       "      <th></th>\n",
       "      <th></th>\n",
       "      <th></th>\n",
       "      <th></th>\n",
       "      <th></th>\n",
       "      <th></th>\n",
       "      <th></th>\n",
       "      <th></th>\n",
       "      <th></th>\n",
       "      <th></th>\n",
       "      <th></th>\n",
       "      <th></th>\n",
       "    </tr>\n",
       "  </thead>\n",
       "  <tbody>\n",
       "    <tr>\n",
       "      <th>IA</th>\n",
       "      <td>5.875</td>\n",
       "      <td>54.550</td>\n",
       "      <td>40.625</td>\n",
       "      <td>32.875</td>\n",
       "      <td>13.800</td>\n",
       "      <td>9.550</td>\n",
       "      <td>93.425</td>\n",
       "      <td>82.575</td>\n",
       "      <td>46.625</td>\n",
       "      <td>29.975</td>\n",
       "      <td>16.750</td>\n",
       "      <td>30.475</td>\n",
       "      <td>14.325</td>\n",
       "      <td>52.825</td>\n",
       "      <td>19.025</td>\n",
       "      <td>80.975</td>\n",
       "      <td>19.625</td>\n",
       "      <td>4.475</td>\n",
       "    </tr>\n",
       "    <tr>\n",
       "      <th>IL</th>\n",
       "      <td>5.550</td>\n",
       "      <td>50.250</td>\n",
       "      <td>37.300</td>\n",
       "      <td>37.025</td>\n",
       "      <td>16.650</td>\n",
       "      <td>10.250</td>\n",
       "      <td>94.750</td>\n",
       "      <td>84.550</td>\n",
       "      <td>49.200</td>\n",
       "      <td>28.075</td>\n",
       "      <td>15.825</td>\n",
       "      <td>30.025</td>\n",
       "      <td>14.000</td>\n",
       "      <td>42.750</td>\n",
       "      <td>23.825</td>\n",
       "      <td>76.175</td>\n",
       "      <td>18.075</td>\n",
       "      <td>5.075</td>\n",
       "    </tr>\n",
       "    <tr>\n",
       "      <th>IN</th>\n",
       "      <td>6.675</td>\n",
       "      <td>52.175</td>\n",
       "      <td>37.625</td>\n",
       "      <td>29.925</td>\n",
       "      <td>15.325</td>\n",
       "      <td>13.125</td>\n",
       "      <td>93.725</td>\n",
       "      <td>86.100</td>\n",
       "      <td>51.700</td>\n",
       "      <td>32.800</td>\n",
       "      <td>20.975</td>\n",
       "      <td>33.975</td>\n",
       "      <td>10.700</td>\n",
       "      <td>43.900</td>\n",
       "      <td>26.825</td>\n",
       "      <td>73.175</td>\n",
       "      <td>23.450</td>\n",
       "      <td>5.650</td>\n",
       "    </tr>\n",
       "    <tr>\n",
       "      <th>KS</th>\n",
       "      <td>5.875</td>\n",
       "      <td>52.075</td>\n",
       "      <td>34.850</td>\n",
       "      <td>31.650</td>\n",
       "      <td>15.375</td>\n",
       "      <td>10.400</td>\n",
       "      <td>93.400</td>\n",
       "      <td>84.700</td>\n",
       "      <td>48.700</td>\n",
       "      <td>31.475</td>\n",
       "      <td>16.225</td>\n",
       "      <td>32.475</td>\n",
       "      <td>10.650</td>\n",
       "      <td>44.075</td>\n",
       "      <td>21.575</td>\n",
       "      <td>78.425</td>\n",
       "      <td>20.775</td>\n",
       "      <td>4.825</td>\n",
       "    </tr>\n",
       "    <tr>\n",
       "      <th>MI</th>\n",
       "      <td>7.200</td>\n",
       "      <td>50.275</td>\n",
       "      <td>36.500</td>\n",
       "      <td>33.125</td>\n",
       "      <td>11.800</td>\n",
       "      <td>12.300</td>\n",
       "      <td>94.950</td>\n",
       "      <td>84.275</td>\n",
       "      <td>48.875</td>\n",
       "      <td>29.325</td>\n",
       "      <td>19.450</td>\n",
       "      <td>36.525</td>\n",
       "      <td>12.600</td>\n",
       "      <td>44.325</td>\n",
       "      <td>23.175</td>\n",
       "      <td>76.825</td>\n",
       "      <td>23.050</td>\n",
       "      <td>5.950</td>\n",
       "    </tr>\n",
       "  </tbody>\n",
       "</table>\n",
       "</div>"
      ],
      "text/plain": [
       "Question      Mean number of days with activity limitations in the past month  \\\n",
       "LocationAbbr                                                                    \n",
       "IA                                                                      5.875   \n",
       "IL                                                                      5.550   \n",
       "IN                                                                      6.675   \n",
       "KS                                                                      5.875   \n",
       "MI                                                                      7.200   \n",
       "\n",
       "Question      Percentage of at risk adults (have diabetes, asthma, cardiovascular disease or currently smoke) who ever had a pneumococcal vaccine  \\\n",
       "LocationAbbr                                                                                                                                        \n",
       "IA                                                                                                                                         54.550   \n",
       "IL                                                                                                                                         50.250   \n",
       "IN                                                                                                                                         52.175   \n",
       "KS                                                                                                                                         52.075   \n",
       "MI                                                                                                                                         50.275   \n",
       "\n",
       "Question      Percentage of older adults who are currently obese, with a body mass index (BMI) of 30 or more  \\\n",
       "LocationAbbr                                                                                                   \n",
       "IA                                                                                                    40.625   \n",
       "IL                                                                                                    37.300   \n",
       "IN                                                                                                    37.625   \n",
       "KS                                                                                                    34.850   \n",
       "MI                                                                                                    36.500   \n",
       "\n",
       "Question      Percentage of older adults who are eating 2 or more fruits daily  \\\n",
       "LocationAbbr                                                                     \n",
       "IA                                                                      32.875   \n",
       "IL                                                                      37.025   \n",
       "IN                                                                      29.925   \n",
       "KS                                                                      31.650   \n",
       "MI                                                                      33.125   \n",
       "\n",
       "Question      Percentage of older adults who are eating 3 or more vegetables daily  \\\n",
       "LocationAbbr                                                                         \n",
       "IA                                                                          13.800   \n",
       "IL                                                                          16.650   \n",
       "IN                                                                          15.325   \n",
       "KS                                                                          15.375   \n",
       "MI                                                                          11.800   \n",
       "\n",
       "Question      Percentage of older adults who are experiencing frequent mental distress  \\\n",
       "LocationAbbr                                                                             \n",
       "IA                                                                               9.550   \n",
       "IL                                                                              10.250   \n",
       "IN                                                                              13.125   \n",
       "KS                                                                              10.400   \n",
       "MI                                                                              12.300   \n",
       "\n",
       "Question      Percentage of older adults who had a cholesterol screening within the past 5 years  \\\n",
       "LocationAbbr                                                                                       \n",
       "IA                                                                                        93.425   \n",
       "IL                                                                                        94.750   \n",
       "IN                                                                                        93.725   \n",
       "KS                                                                                        93.400   \n",
       "MI                                                                                        94.950   \n",
       "\n",
       "Question      Percentage of older adults who have been told they have high blood pressure who report currently taking medication for their high blood pressure  \\\n",
       "LocationAbbr                                                                                                                                                     \n",
       "IA                                                                                                                                                      82.575   \n",
       "IL                                                                                                                                                      84.550   \n",
       "IN                                                                                                                                                      86.100   \n",
       "KS                                                                                                                                                      84.700   \n",
       "MI                                                                                                                                                      84.275   \n",
       "\n",
       "Question      Percentage of older adults who have ever been told by a health professional that they have high blood pressure  \\\n",
       "LocationAbbr                                                                                                                   \n",
       "IA                                                                                                                    46.625   \n",
       "IL                                                                                                                    49.200   \n",
       "IN                                                                                                                    51.700   \n",
       "KS                                                                                                                    48.700   \n",
       "MI                                                                                                                    48.875   \n",
       "\n",
       "Question      Percentage of older adults who have not had any leisure time physical activity in the past month  \\\n",
       "LocationAbbr                                                                                                     \n",
       "IA                                                                                                      29.975   \n",
       "IL                                                                                                      28.075   \n",
       "IN                                                                                                      32.800   \n",
       "KS                                                                                                      31.475   \n",
       "MI                                                                                                      29.325   \n",
       "\n",
       "Question      Percentage of older adults who have smoked at least 100 cigarettes in their entire life and still smoke every day or some days  \\\n",
       "LocationAbbr                                                                                                                                   \n",
       "IA                                                                                                                                    16.750   \n",
       "IL                                                                                                                                    15.825   \n",
       "IN                                                                                                                                    20.975   \n",
       "KS                                                                                                                                    16.225   \n",
       "MI                                                                                                                                    19.450   \n",
       "\n",
       "Question      Percentage of older adults who report having a disability (includes limitations related to sensory or mobility impairments or a physical, mental, or emotional condition)  \\\n",
       "LocationAbbr                                                                                                                                                                              \n",
       "IA                                                                                                                                                                               30.475   \n",
       "IL                                                                                                                                                                               30.025   \n",
       "IN                                                                                                                                                                               33.975   \n",
       "KS                                                                                                                                                                               32.475   \n",
       "MI                                                                                                                                                                               36.525   \n",
       "\n",
       "Question      Percentage of older adults who reported binge drinking within the past 30 days  \\\n",
       "LocationAbbr                                                                                   \n",
       "IA                                                                                    14.325   \n",
       "IL                                                                                    14.000   \n",
       "IN                                                                                    10.700   \n",
       "KS                                                                                    10.650   \n",
       "MI                                                                                    12.600   \n",
       "\n",
       "Question      Percentage of older adults who reported influenza vaccine within the past year  \\\n",
       "LocationAbbr                                                                                   \n",
       "IA                                                                                    52.825   \n",
       "IL                                                                                    42.750   \n",
       "IN                                                                                    43.900   \n",
       "KS                                                                                    44.075   \n",
       "MI                                                                                    44.325   \n",
       "\n",
       "Question      Percentage of older adults who self-reported that their health is \"fair\" or \"poor\"  \\\n",
       "LocationAbbr                                                                                       \n",
       "IA                                                                                        19.025   \n",
       "IL                                                                                        23.825   \n",
       "IN                                                                                        26.825   \n",
       "KS                                                                                        21.575   \n",
       "MI                                                                                        23.175   \n",
       "\n",
       "Question      Percentage of older adults who self-reported that their health is \"good\", \"very good\", or \"excellent\"  \\\n",
       "LocationAbbr                                                                                                          \n",
       "IA                                                                                                           80.975   \n",
       "IL                                                                                                           76.175   \n",
       "IN                                                                                                           73.175   \n",
       "KS                                                                                                           78.425   \n",
       "MI                                                                                                           76.825   \n",
       "\n",
       "Question      Percentage of older adults with a lifetime diagnosis of depression  \\\n",
       "LocationAbbr                                                                       \n",
       "IA                                                                        19.625   \n",
       "IL                                                                        18.075   \n",
       "IN                                                                        23.450   \n",
       "KS                                                                        20.775   \n",
       "MI                                                                        23.050   \n",
       "\n",
       "Question      Physically unhealthy days (mean number of days in past month)  \n",
       "LocationAbbr                                                                 \n",
       "IA                                                                    4.475  \n",
       "IL                                                                    5.075  \n",
       "IN                                                                    5.650  \n",
       "KS                                                                    4.825  \n",
       "MI                                                                    5.950  "
      ]
     },
     "metadata": {},
     "output_type": "display_data"
    }
   ],
   "source": [
    "\n",
    "df = alzheimers_midwest[alzheimers_midwest['YearStart'] == 2017]\n",
    "# Create a pivot table. Pivot table is to put Questions into columns. This puts the response value for each state in a row.\n",
    "# Note: Percentages were averaged across ages. \n",
    "table = pd.pivot_table(df, values = 'Data_Value', index= 'LocationAbbr', columns = 'Question', aggfunc=np.mean).dropna(axis = 1)\n",
    "display(table.head())\n",
    "# 2017 Example given below\n"
   ]
  },
  {
   "cell_type": "code",
   "execution_count": 10,
   "metadata": {},
   "outputs": [
    {
     "data": {
      "text/plain": [
       "'Top 5 questions in year 2014'"
      ]
     },
     "metadata": {},
     "output_type": "display_data"
    },
    {
     "data": {
      "text/plain": [
       "Percentage of older adults who have smoked at least 100 cigarettes in their entire life and still smoke every day or some days    0.414642\n",
       "Percentage of older adults who reported influenza vaccine within the past year                                                    0.338790\n",
       "Percentage of older adult women who are up to date with select clinical preventive services                                       0.310000\n",
       "Percentage of older adults who have fallen and sustained an injury within last year                                               0.259978\n",
       "Percentage of older adults getting sufficient sleep (>6 hours)                                                                    0.253549\n",
       "Name: 2014, dtype: float64"
      ]
     },
     "metadata": {},
     "output_type": "display_data"
    },
    {
     "data": {
      "text/plain": [
       "'Top 5 questions in year 2015'"
      ]
     },
     "metadata": {},
     "output_type": "display_data"
    },
    {
     "data": {
      "text/plain": [
       "Percentage of older adults who have been told they have high blood pressure who report currently taking medication for their high blood pressure                0.705467\n",
       "Percentage of older adults who have smoked at least 100 cigarettes in their entire life and still smoke every day or some days                                  0.540476\n",
       "Average of 20 or more hours of care per week provided to a friend or family member                                                                              0.218575\n",
       "Percentage of older adults who have not had any leisure time physical activity in the past month                                                                0.164174\n",
       "Percentage of older adults who reported that as a result of subjective cognitive decline or memory loss that they need assistance with day-to-day activities    0.160355\n",
       "Name: 2015, dtype: float64"
      ]
     },
     "metadata": {},
     "output_type": "display_data"
    },
    {
     "data": {
      "text/plain": [
       "'Top 5 questions in year 2016'"
      ]
     },
     "metadata": {},
     "output_type": "display_data"
    },
    {
     "data": {
      "text/plain": [
       "Percentage of older adults who have smoked at least 100 cigarettes in their entire life and still smoke every day or some days    0.505790\n",
       "Percentage of older adult women who have received a mammogram within the past 2 years                                             0.329180\n",
       "Percentage of older adults who reported binge drinking within the past 30 days                                                    0.242499\n",
       "Percentage of older adult women who are up to date with select clinical preventive services                                       0.239791\n",
       "Percentage of older adults who have not had any leisure time physical activity in the past month                                  0.163140\n",
       "Name: 2016, dtype: float64"
      ]
     },
     "metadata": {},
     "output_type": "display_data"
    },
    {
     "data": {
      "text/plain": [
       "'Top 5 questions in year 2017'"
      ]
     },
     "metadata": {},
     "output_type": "display_data"
    },
    {
     "data": {
      "text/plain": [
       "Percentage of older adults who have smoked at least 100 cigarettes in their entire life and still smoke every day or some days         0.365616\n",
       "Percentage of older adults who reported influenza vaccine within the past year                                                         0.299970\n",
       "Percentage of at risk adults (have diabetes, asthma, cardiovascular disease or currently smoke) who ever had a pneumococcal vaccine    0.210530\n",
       "Percentage of older adults who have not had any leisure time physical activity in the past month                                       0.143261\n",
       "Percentage of older adults who reported binge drinking within the past 30 days                                                         0.132906\n",
       "Name: 2017, dtype: float64"
      ]
     },
     "metadata": {},
     "output_type": "display_data"
    }
   ],
   "source": [
    "# Append the mortality rate to each per year pivot table.\n",
    "for year in [2014,2015,2016,2017]:\n",
    "    df = alzheimers_midwest[alzheimers_midwest['YearStart'] == year]\n",
    "    table = pd.pivot_table(df, values = 'Data_Value', index= 'LocationAbbr', columns = 'Question', aggfunc=np.mean).dropna(axis = 1)\n",
    "    # Append mortality rate\n",
    "    index = alzheimers_deathrate_midwest[alzheimers_deathrate_midwest['Year'] == year].sort_values(by = 'State')['State'].values\n",
    "    values = alzheimers_deathrate_midwest[alzheimers_deathrate_midwest['Year'] == year].sort_values(by = 'State')['Rate'].values\n",
    "    series = pd.Series(values, index, name = year)\n",
    "    display('Top 5 questions in year {}'.format(str(year)),pd.concat([table,series], axis =1).corr()[year].sort_values(ascending = False)[1:6])"
   ]
  },
  {
   "cell_type": "markdown",
   "metadata": {},
   "source": [
    "<p style = 'fontsize:12'> Above is printed out correlations for the five questions that correlated most with mortality rate in the giben year. Right off the bat, you can see correlation is not particulary high between the survey respones and actually mortality rates, with the question asking about smoking habits being the most consistent. To get a visual picture, a scatterplot matrix will be constructed. Instead of constructing for each question that appeared in the top 5, we will limit the matrix to questions that appeared in the top 5 of a given year <i> more than once </i>."
   ]
  },
  {
   "cell_type": "code",
   "execution_count": 11,
   "metadata": {},
   "outputs": [
    {
     "name": "stdout",
     "output_type": "stream",
     "text": [
      "Percentage of older adults who have smoked at least 100 cigarettes in their entire life and still smoke every day or some days    4\n",
      "Percentage of older adults who have not had any leisure time physical activity in the past month                                  3\n",
      "Percentage of older adults who reported binge drinking within the past 30 days                                                    2\n",
      "Percentage of older adult women who are up to date with select clinical preventive services                                       2\n",
      "Percentage of older adults who reported influenza vaccine within the past year                                                    2\n",
      "dtype: int64\n"
     ]
    }
   ],
   "source": [
    "# Append the mortality rate to each per year pivot table.\n",
    "li = []\n",
    "for year in [2014,2015,2016,2017]:\n",
    "    df = alzheimers_midwest[alzheimers_midwest['YearStart'] == year]\n",
    "    table = pd.pivot_table(df, values = 'Data_Value', index= 'LocationAbbr', columns = 'Question', aggfunc=np.mean).dropna(axis = 1)\n",
    "    # Append mortality rate\n",
    "    index = alzheimers_deathrate_midwest[alzheimers_deathrate_midwest['Year'] == year].sort_values(by = 'State')['State'].values\n",
    "    values = alzheimers_deathrate_midwest[alzheimers_deathrate_midwest['Year'] == year].sort_values(by = 'State')['Rate'].values\n",
    "    series = pd.Series(values, index, name = year)\n",
    "    # display('Top 5 questions in year {}'.format(str(year)),\n",
    "    li.extend(list(pd.concat([table,series], axis =1).corr()[year].sort_values(ascending = False)[1:6].index))\n",
    "# Create a dictionary with counts of questions in top five for correlation. \n",
    "my_dict = {}\n",
    "for x in li:\n",
    "    if x in my_dict:\n",
    "        my_dict[x] +=1\n",
    "    else:\n",
    "        my_dict[x] = 1\n",
    "# Dictionary contains response values that were in the top-5 of mortality rate correlation in at least one year (2014-2017)        \n",
    "# Will be creating a scatterplot matrix using response values that appeared more than once.\n",
    "# For example, 'Percentage of older adults who have smoked at least 100 cigarettes in their entire life and still smoke every day or some days'\n",
    "# appears in the top 5 each year. See below \n",
    "question_count = pd.Series(my_dict).sort_values(ascending = False)\n",
    "# Questions that appeared more than once\n",
    "print(question_count[question_count > 1])\n"
   ]
  },
  {
   "cell_type": "code",
   "execution_count": 12,
   "metadata": {},
   "outputs": [],
   "source": [
    "# Define function that returns values for scatter plots. \n",
    "# For scatter plot, need mortality rate on y axis, response rate on x. \n",
    "# Retrieve mortality rate from mortality rate table\n",
    "def pivot_table_alzheimers(year):\n",
    "    # Returns alzheimers pivot table for given year. \n",
    "    df = alzheimers_midwest[alzheimers_midwest['YearStart'] == year]\n",
    "    table = pd.pivot_table(df, values = 'Data_Value', index= 'LocationAbbr', columns = 'Question', aggfunc=np.mean).dropna(axis = 1)\n",
    "    return table\n",
    "def scatterplot_values(year, question):\n",
    "    # Returns scatterplot values for given \n",
    "    y_values = alzheimers_deathrate_midwest[alzheimers_deathrate_midwest['Year'] == year].sort_values(by = 'State')['Rate'].values\n",
    "    x_values = pivot_table_alzheimers(year)[question].values\n",
    "    return x_values, y_values\n",
    "top_5_question = ['Percentage of older adults who have smoked at least 100 cigarettes in their entire life and still smoke every day or some days',\n",
    "                 'Percentage of older adults who have not had any leisure time physical activity in the past month',\n",
    "                 'Percentage of older adults who reported binge drinking within the past 30 days',\n",
    "                 'Percentage of older adult women who are up to date with select clinical preventive services',\n",
    "                 'Percentage of older adults who reported influenza vaccine within the past year']\n",
    "years = [2014,2015,2016,2017]\n",
    "# Dictionary assigning questions to 'Q1', 'Q2', etc nomeclature. Reason is to make it easier on scatterplot matrix labeling\n",
    "question_abbr = ['Q1','Q2','Q3','Q4','Q5']\n",
    "top_5_question_dict = dict(zip(top_5_question, question_abbr))"
   ]
  },
  {
   "cell_type": "code",
   "execution_count": 13,
   "metadata": {},
   "outputs": [
    {
     "data": {
      "image/png": "[encoded data removed]",
      "text/plain": [
       "<Figure size 1152x648 with 20 Axes>"
      ]
     },
     "metadata": {},
     "output_type": "display_data"
    }
   ],
   "source": [
    "# Create scatter plot matrix\n",
    "fig, ax = plt.subplots(5,4)\n",
    "fig.set_size_inches(16,9)\n",
    "# Loop over axes, build scatterplots\n",
    "for j in range(len(years)):    \n",
    "    for i in range(len(top_5_question)):\n",
    "        try:\n",
    "            ax[i,j].scatter(scatterplot_values(years[j], top_5_question[i])[0], scatterplot_values(years[j], top_5_question[i])[1])\n",
    "        except:\n",
    "            # Error raised if question was not included in survey year. 'Percentage of older adult women who are up to date with select clinical preventive services' \n",
    "            # was not available for 2015 or 2017\n",
    "            continue\n",
    "# Below 'for' loops serve to eliminate x, y ticks from interior plots, to prevent redundancy in axis.\n",
    "for i in range(ax.shape[0]): # - 1):\n",
    "    ax[i, 0].set_xticks([])\n",
    "for j in range(1, ax.shape[1]):\n",
    "    ax[ax.shape[0] -1, j].set_yticks([])\n",
    "for i in range(ax.shape[0]): #- 1):\n",
    "    for j in range(1,ax.shape[1]):\n",
    "        ax[i,j].set_xticks([])\n",
    "        ax[i,j].set_yticks([])\n",
    "# Below 'for' loops specifies labeling for axis.\n",
    "for i in range(ax.shape[0]):\n",
    "    ax[i,0].set_ylabel(top_5_question_dict[top_5_question[i]], fontsize = 12)\n",
    "    ax[i,0].set_ylim(20,40)\n",
    "    ax[i,0].set_yticks([]) #([20,40])\n",
    "for j in range(ax.shape[1]):\n",
    "    # Labels each column with a year\n",
    "    ax[0,j].set_title(years[j], fontsize = 12)\n",
    "# Add title to x-axis\n",
    "ax[2,0].annotate('Mortality Rate', xy = (.04,.45), xycoords = ('figure fraction'), rotation = 90, fontsize = 18)\n",
    "ax[0,2].annotate('Response Rate', xy = (.5, .06), xycoords = ('figure fraction'), fontsize = 18)\n",
    "# Add title to matrix \n",
    "fig.suptitle('Scatterplot Matrix \\n Response Rate vs Mortality Rate', fontsize = 18)\n",
    "# Add notation\n",
    "ax[4,0].annotate('x-values are question response rates in given year, y-values are mortality rates in given year.', xy = (.1,.03),\n",
    "                xycoords = ('figure fraction'), fontsize = 10, fontstyle = 'italic')\n",
    "plt.show()"
   ]
  },
  {
   "cell_type": "code",
   "execution_count": 14,
   "metadata": {},
   "outputs": [
    {
     "data": {
      "text/html": [
       "<div>\n",
       "<style scoped>\n",
       "    .dataframe tbody tr th:only-of-type {\n",
       "        vertical-align: middle;\n",
       "    }\n",
       "\n",
       "    .dataframe tbody tr th {\n",
       "        vertical-align: top;\n",
       "    }\n",
       "\n",
       "    .dataframe thead th {\n",
       "        text-align: right;\n",
       "    }\n",
       "</style>\n",
       "<table border=\"1\" class=\"dataframe\">\n",
       "  <thead>\n",
       "    <tr style=\"text-align: right;\">\n",
       "      <th></th>\n",
       "      <th>QuestionAbbr</th>\n",
       "      <th>Question</th>\n",
       "    </tr>\n",
       "  </thead>\n",
       "  <tbody>\n",
       "    <tr>\n",
       "      <th>1</th>\n",
       "      <td>Q1</td>\n",
       "      <td>Percentage of older adults who have smoked at least 100 cigarettes in their entire life and still smoke every day or some days</td>\n",
       "    </tr>\n",
       "    <tr>\n",
       "      <th>2</th>\n",
       "      <td>Q2</td>\n",
       "      <td>Percentage of older adults who have not had any leisure time physical activity in the past month</td>\n",
       "    </tr>\n",
       "    <tr>\n",
       "      <th>3</th>\n",
       "      <td>Q3</td>\n",
       "      <td>Percentage of older adults who reported binge drinking within the past 30 days</td>\n",
       "    </tr>\n",
       "    <tr>\n",
       "      <th>4</th>\n",
       "      <td>Q4</td>\n",
       "      <td>Percentage of older adult women who are up to date with select clinical preventive services</td>\n",
       "    </tr>\n",
       "    <tr>\n",
       "      <th>5</th>\n",
       "      <td>Q5</td>\n",
       "      <td>Percentage of older adults who reported influenza vaccine within the past year</td>\n",
       "    </tr>\n",
       "  </tbody>\n",
       "</table>\n",
       "</div>"
      ],
      "text/plain": [
       "  QuestionAbbr  \\\n",
       "1           Q1   \n",
       "2           Q2   \n",
       "3           Q3   \n",
       "4           Q4   \n",
       "5           Q5   \n",
       "\n",
       "                                                                                                                         Question  \n",
       "1  Percentage of older adults who have smoked at least 100 cigarettes in their entire life and still smoke every day or some days  \n",
       "2                                Percentage of older adults who have not had any leisure time physical activity in the past month  \n",
       "3                                                  Percentage of older adults who reported binge drinking within the past 30 days  \n",
       "4                                     Percentage of older adult women who are up to date with select clinical preventive services  \n",
       "5                                                  Percentage of older adults who reported influenza vaccine within the past year  "
      ]
     },
     "metadata": {},
     "output_type": "display_data"
    }
   ],
   "source": [
    "# Question glossarys\n",
    "col1 = list(top_5_question_dict.keys())\n",
    "col2 = list(top_5_question_dict.values())\n",
    "display(pd.DataFrame([col2, col1]).T.rename(columns = {0:'QuestionAbbr', 1:'Question'}).set_index(pd.Series([1,2,3,4,5])))"
   ]
  },
  {
   "cell_type": "markdown",
   "metadata": {},
   "source": [
    "<h3> Scatterplot results </h3> \n",
    "<p style = 'fontsize:12'> Confirming what we originally thought, the scatterplots indicate little correlation, if any, between survey responses and mortality rates. Part of research means not always finding strong results or uncovering something new. I will conduct some additional data visualization below to highlight my abilities. </p>\n",
    "<p style = 'fontsize:12'> <b> Note: </b> There are missing scatterplots for Q4 in 2015 in 2017. The reason is the question was not asked in those years, for reasons unknown. </p>"
   ]
  },
  {
   "cell_type": "markdown",
   "metadata": {
    "scrolled": false
   },
   "source": [
    "<h3> Barchart Visualization </h3> \n",
    "<p style = 'fontstyle: 12'> Using bar graphs, I will explore the results among age groups from my home state of Michigan. I will use the same set of questions, except for Q4. I will be visualizing 2017 survey results.</p>"
   ]
  },
  {
   "cell_type": "code",
   "execution_count": 36,
   "metadata": {},
   "outputs": [
    {
     "data": {
      "text/html": [
       "<div>\n",
       "<style scoped>\n",
       "    .dataframe tbody tr th:only-of-type {\n",
       "        vertical-align: middle;\n",
       "    }\n",
       "\n",
       "    .dataframe tbody tr th {\n",
       "        vertical-align: top;\n",
       "    }\n",
       "\n",
       "    .dataframe thead th {\n",
       "        text-align: right;\n",
       "    }\n",
       "</style>\n",
       "<table border=\"1\" class=\"dataframe\">\n",
       "  <thead>\n",
       "    <tr style=\"text-align: right;\">\n",
       "      <th>Question</th>\n",
       "      <th>Q1</th>\n",
       "      <th>Q2</th>\n",
       "      <th>Q3</th>\n",
       "      <th>Q5</th>\n",
       "    </tr>\n",
       "    <tr>\n",
       "      <th>Stratification1</th>\n",
       "      <th></th>\n",
       "      <th></th>\n",
       "      <th></th>\n",
       "      <th></th>\n",
       "    </tr>\n",
       "  </thead>\n",
       "  <tbody>\n",
       "    <tr>\n",
       "      <th>50-54 years</th>\n",
       "      <td>22.6</td>\n",
       "      <td>25.5</td>\n",
       "      <td>18.3</td>\n",
       "      <td>31.2</td>\n",
       "    </tr>\n",
       "    <tr>\n",
       "      <th>55-59 years</th>\n",
       "      <td>26.3</td>\n",
       "      <td>31.6</td>\n",
       "      <td>15.3</td>\n",
       "      <td>38.7</td>\n",
       "    </tr>\n",
       "    <tr>\n",
       "      <th>60-64 years</th>\n",
       "      <td>19.3</td>\n",
       "      <td>29.3</td>\n",
       "      <td>10.7</td>\n",
       "      <td>47.1</td>\n",
       "    </tr>\n",
       "    <tr>\n",
       "      <th>65 years or older</th>\n",
       "      <td>9.6</td>\n",
       "      <td>30.9</td>\n",
       "      <td>6.1</td>\n",
       "      <td>60.3</td>\n",
       "    </tr>\n",
       "  </tbody>\n",
       "</table>\n",
       "</div>"
      ],
      "text/plain": [
       "Question             Q1    Q2    Q3    Q5\n",
       "Stratification1                          \n",
       "50-54 years        22.6  25.5  18.3  31.2\n",
       "55-59 years        26.3  31.6  15.3  38.7\n",
       "60-64 years        19.3  29.3  10.7  47.1\n",
       "65 years or older   9.6  30.9   6.1  60.3"
      ]
     },
     "execution_count": 36,
     "metadata": {},
     "output_type": "execute_result"
    }
   ],
   "source": [
    "#Question list without Q4\n",
    "mi_question_list = ['Percentage of older adults who have smoked at least 100 cigarettes in their entire life and still smoke every day or some days',\n",
    "                   'Percentage of older adults who have not had any leisure time physical activity in the past month',\n",
    "                   'Percentage of older adults who reported binge drinking within the past 30 days',\n",
    "                   'Percentage of older adults who reported influenza vaccine within the past year']\n",
    "# State of Michigan individual: How did Michigan respond to different questions?\n",
    "mi_df = alzheimers_midwest[alzheimers_midwest['LocationAbbr'] == 'MI']\n",
    "mi_df = mi_df[mi_df['YearStart'] == 2017]\n",
    "# Reduce dataframe to include only Michigan and 2017 survey results. Use Pivot table to construct readable table. \n",
    "mi_table = pd.pivot_table(mi_df, values = 'Data_Value', index = 'Stratification1', columns = 'Question', aggfunc = np.mean)[mi_question_list].rename(columns = top_5_question_dict)\n",
    "# Kept 'Q5' abbreviation despite only being four questions. Reason was to stay consistent with previous glossary. \n",
    "mi_table"
   ]
  },
  {
   "cell_type": "code",
   "execution_count": 95,
   "metadata": {},
   "outputs": [
    {
     "data": {
      "image/png": "[encoded data removed]",
      "text/plain": [
       "<Figure size 864x576 with 1 Axes>"
      ]
     },
     "metadata": {
      "needs_background": "light"
     },
     "output_type": "display_data"
    }
   ],
   "source": [
    "fig, ax = plt.subplots()\n",
    "fig.set_size_inches(12,8)\n",
    "x = np.arange(4)\n",
    "# Create individual bar objects. \n",
    "ax.bar(x - .2, mi_table.loc['50-54 years',:].values, width = 0.2, label = '50-54', color = '#120136') # color map found at https://colorhunt.co/palette/180404\n",
    "ax.bar(x, mi_table.loc['55-59 years',:].values, width = 0.2, label = '55-59', color = '#035aa6')\n",
    "ax.bar(x + .2, mi_table.loc['60-64 years',:].values, width = 0.2, label = '60-64', color = '#40bad5')\n",
    "ax.bar(x + .4, mi_table.loc['65 years or older',:].values, width = 0.2, label = '65+', color = '#fcbf1e')\n",
    "ax.set_xticks(np.arange(4))\n",
    "# Set tick labels\n",
    "ax.set_xticklabels(mi_table.columns)\n",
    "ax.set_yticklabels(['{}%'.format(x) for x in np.arange(0,61,10)])\n",
    "\n",
    "# Set axis names\n",
    "ax.set_ylabel('Survey Response\\nin Percent', fontsize = 14)\n",
    "ax.set_xlabel('Question', fontsize = 14)\n",
    "\n",
    "# Title\n",
    "fig.suptitle('State of Michigan Survey Results in 2017', y = 0.935, fontsize = 16, x = .51)\n",
    "ax.set_title('Comparing different age demographics')\n",
    "\n",
    "ax.legend()\n",
    "plt.show()"
   ]
  },
  {
   "cell_type": "markdown",
   "metadata": {},
   "source": [
    "<p style = 'fontsize:12'> Bargraph reveals some interesting trends, including a decline in binge drinking as people age coupled with an increase in yearly flue shots. The steady downtick of binge drinking may indicate people realizing their own mortality. However, the range in ages for '65+' is important to note. '65+' includes 70 and 80 year-olds, who of course will drink less than someone in their 50s. </p>"
   ]
  },
  {
   "cell_type": "markdown",
   "metadata": {},
   "source": [
    "<h3> Line Chart </h3> \n",
    "<p style = 'fontstyle: 12'>  Our last visualization will be a line chart. Once again, I will explore our question list (excluding 'Q4') as it relates to Michigan. In this visualization I will graph out the changes in Michigan survey responses from 2011 to 2017. Hopefully we will see binge-drinking, smoking rates decrease. </p>"
   ]
  },
  {
   "cell_type": "code",
   "execution_count": 91,
   "metadata": {},
   "outputs": [
    {
     "data": {
      "text/html": [
       "<div>\n",
       "<style scoped>\n",
       "    .dataframe tbody tr th:only-of-type {\n",
       "        vertical-align: middle;\n",
       "    }\n",
       "\n",
       "    .dataframe tbody tr th {\n",
       "        vertical-align: top;\n",
       "    }\n",
       "\n",
       "    .dataframe thead th {\n",
       "        text-align: right;\n",
       "    }\n",
       "</style>\n",
       "<table border=\"1\" class=\"dataframe\">\n",
       "  <thead>\n",
       "    <tr style=\"text-align: right;\">\n",
       "      <th>YearStart</th>\n",
       "      <th>2011</th>\n",
       "      <th>2012</th>\n",
       "      <th>2013</th>\n",
       "      <th>2014</th>\n",
       "      <th>2015</th>\n",
       "      <th>2016</th>\n",
       "      <th>2017</th>\n",
       "    </tr>\n",
       "    <tr>\n",
       "      <th>Question</th>\n",
       "      <th></th>\n",
       "      <th></th>\n",
       "      <th></th>\n",
       "      <th></th>\n",
       "      <th></th>\n",
       "      <th></th>\n",
       "      <th></th>\n",
       "    </tr>\n",
       "  </thead>\n",
       "  <tbody>\n",
       "    <tr>\n",
       "      <th>Q1</th>\n",
       "      <td>19.075</td>\n",
       "      <td>19.600</td>\n",
       "      <td>18.800</td>\n",
       "      <td>17.775</td>\n",
       "      <td>19.275</td>\n",
       "      <td>18.975</td>\n",
       "      <td>19.450</td>\n",
       "    </tr>\n",
       "    <tr>\n",
       "      <th>Q2</th>\n",
       "      <td>27.150</td>\n",
       "      <td>26.275</td>\n",
       "      <td>26.725</td>\n",
       "      <td>28.525</td>\n",
       "      <td>28.475</td>\n",
       "      <td>27.550</td>\n",
       "      <td>29.325</td>\n",
       "    </tr>\n",
       "    <tr>\n",
       "      <th>Q3</th>\n",
       "      <td>13.250</td>\n",
       "      <td>13.400</td>\n",
       "      <td>12.975</td>\n",
       "      <td>12.950</td>\n",
       "      <td>13.025</td>\n",
       "      <td>13.175</td>\n",
       "      <td>12.600</td>\n",
       "    </tr>\n",
       "    <tr>\n",
       "      <th>Q5</th>\n",
       "      <td>43.275</td>\n",
       "      <td>42.400</td>\n",
       "      <td>43.500</td>\n",
       "      <td>43.950</td>\n",
       "      <td>43.675</td>\n",
       "      <td>42.250</td>\n",
       "      <td>44.325</td>\n",
       "    </tr>\n",
       "  </tbody>\n",
       "</table>\n",
       "</div>"
      ],
      "text/plain": [
       "YearStart    2011    2012    2013    2014    2015    2016    2017\n",
       "Question                                                         \n",
       "Q1         19.075  19.600  18.800  17.775  19.275  18.975  19.450\n",
       "Q2         27.150  26.275  26.725  28.525  28.475  27.550  29.325\n",
       "Q3         13.250  13.400  12.975  12.950  13.025  13.175  12.600\n",
       "Q5         43.275  42.400  43.500  43.950  43.675  42.250  44.325"
      ]
     },
     "execution_count": 91,
     "metadata": {},
     "output_type": "execute_result"
    }
   ],
   "source": [
    "# Line chart, with 'Questions' as lines. The y-axis will be survey response %, x-axis will be years. \n",
    "# Aggregate results across age demographics. \n",
    "# Recreate mi_df, including each year\n",
    "mi_df_2 = alzheimers_midwest[alzheimers_midwest['LocationAbbr'] == 'MI']\n",
    "# Another pivot table. Questions are organized by row now.\n",
    "mi_year_table = pd.pivot_table(mi_df_2, values = 'Data_Value', index = 'Question', columns = 'YearStart',aggfunc =np.mean).loc[mi_question_list,:].rename(index = top_5_question_dict)\n",
    "mi_year_table"
   ]
  },
  {
   "cell_type": "code",
   "execution_count": 96,
   "metadata": {},
   "outputs": [
    {
     "data": {
      "image/png": "[encoded data removed]",
      "text/plain": [
       "<Figure size 864x576 with 1 Axes>"
      ]
     },
     "metadata": {
      "needs_background": "light"
     },
     "output_type": "display_data"
    }
   ],
   "source": [
    "fig, ax = plt.subplots()\n",
    "fig.set_size_inches(12,8)\n",
    "# Plot each line plot. Each line represent the survey results for a given question\n",
    "ax.plot(mi_year_table.columns, mi_year_table.loc['Q1',:].values, label = 'Q1', marker = 'o', color = '#1b262c') # Dot represents survey result\n",
    "ax.plot(mi_year_table.columns, mi_year_table.loc['Q2',:].values, label = 'Q2', marker = 'o', color = '#0f4c75') # Color map from https://colorhunt.co/palette/167893\n",
    "ax.plot(mi_year_table.columns, mi_year_table.loc['Q3',:].values, label = 'Q3', marker = 'o', color = '#3282b8')\n",
    "ax.plot(mi_year_table.columns, mi_year_table.loc['Q5',:].values, label = 'Q5', marker = 'o', color = '#bbe1fa')\n",
    "ax.legend(loc = (1,.86))\n",
    "# Set tick labels\n",
    "ax.set_yticklabels(['{}%'.format(x) for x in np.arange(10,46,5)])\n",
    "\n",
    "# Set axis labels\n",
    "ax.set_ylabel('Survey Response\\nin Percent', fontsize = 14)\n",
    "ax.set_xlabel('Year', fontsize = 14)\n",
    "\n",
    "# Set Title\n",
    "fig.suptitle('State of Michigan Changes in Survey Results Over Time', y = 0.935, fontsize = 16, x = .51)\n",
    "ax.set_title('2011-2017', fontsize = 12)\n",
    "\n",
    "plt.show()"
   ]
  },
  {
   "cell_type": "markdown",
   "metadata": {},
   "source": [
    "<p style = 'fontstyle:12'> Observing the line graph, its clear that survey results have not changed much over the years, with the question regarding binge drinking staying as flat as can be (At least it is not increasing). </p>"
   ]
  },
  {
   "cell_type": "markdown",
   "metadata": {},
   "source": [
    "<h2> Conclusion </h2>\n",
    "<p style = 'fontsize:12'> Unfortunately, no groudbreaking insight was uncovered in this base-level analysis. The purpose of this project was to demonstrate abilities in pandas and matplotlib, and using those abilities to present data in an understandable way. The survey response data is large enough to support a multitude of queries (what does this data look like for the South region? Northeast? How do mortality rates between regions compare?). The answer to these questions were not answered in this analysis; that does not mean they cannot be. The scope of this project was narrowed to allow for a demonstration of coding ability. Additional queries using the BFRSS and CDC mortality rate table are welcome. Thank you for taking the time to read through this project </p>"
   ]
  },
  {
   "cell_type": "code",
   "execution_count": null,
   "metadata": {},
   "outputs": [],
   "source": []
  }
 ],
 "metadata": {
  "kernelspec": {
   "display_name": "Python 3",
   "language": "python",
   "name": "python3"
  },
  "language_info": {
   "codemirror_mode": {
    "name": "ipython",
    "version": 3
   },
   "file_extension": ".py",
   "mimetype": "text/x-python",
   "name": "python",
   "nbconvert_exporter": "python",
   "pygments_lexer": "ipython3",
   "version": "3.7.5"
  }
 },
 "nbformat": 4,
 "nbformat_minor": 2
}
